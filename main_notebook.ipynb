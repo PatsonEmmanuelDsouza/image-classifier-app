{
 "cells": [
  {
   "cell_type": "markdown",
   "id": "2b7141ef",
   "metadata": {},
   "source": [
    "### Imports"
   ]
  },
  {
   "cell_type": "code",
   "execution_count": 1,
   "id": "ecfd3c36",
   "metadata": {},
   "outputs": [],
   "source": [
    "import tensorflow as tf\n",
    "from tensorflow import keras\n",
    "\n",
    "from keras import layers\n",
    "from keras.models import Model\n",
    "from keras.callbacks import EarlyStopping, ReduceLROnPlateau\n",
    "\n",
    "import matplotlib.pyplot as plt\n",
    "import numpy as np\n",
    "import os\n",
    "import matplotlib.pyplot as plt\n",
    "from sklearn.metrics import classification_report, confusion_matrix\n",
    "import seaborn as sns\n",
    "\n",
    "import time"
   ]
  },
  {
   "cell_type": "markdown",
   "id": "f50fdc08",
   "metadata": {},
   "source": [
    "### Reproducability"
   ]
  },
  {
   "cell_type": "code",
   "execution_count": 2,
   "id": "1b6d8650",
   "metadata": {},
   "outputs": [],
   "source": [
    "# Reproducability\n",
    "def set_seed(seed=31415):\n",
    "    np.random.seed(seed)\n",
    "    tf.random.set_seed(seed)\n",
    "    os.environ['PYTHONHASHSEED'] = str(seed)\n",
    "    os.environ['TF_DETERMINISTIC_OPS'] = '1'\n",
    "    os.environ['TF_CPP_MIN_LOG_LEVEL'] = '2'\n",
    "set_seed(31415)"
   ]
  },
  {
   "cell_type": "markdown",
   "id": "026b21c3",
   "metadata": {},
   "source": [
    "### Constants"
   ]
  },
  {
   "cell_type": "code",
   "execution_count": 3,
   "id": "3b45d23a",
   "metadata": {},
   "outputs": [],
   "source": [
    "IMG_SIZE = (224, 224)\n",
    "BATCH_SIZE = 32\n",
    "EPOCHS = 100"
   ]
  },
  {
   "cell_type": "code",
   "execution_count": 4,
   "id": "1bbb2ee9",
   "metadata": {},
   "outputs": [],
   "source": [
    "TRAIN_DIR = 'furniture_dataset/train'\n",
    "VAL_DIR = 'furniture_dataset/val'\n",
    "TEST_DIR = 'furniture_dataset/test'"
   ]
  },
  {
   "cell_type": "markdown",
   "id": "824708fa",
   "metadata": {},
   "source": [
    "### Function that loads training, validation and test datasets | default image size is 224 x 224"
   ]
  },
  {
   "cell_type": "code",
   "execution_count": 5,
   "id": "b4c05a82",
   "metadata": {},
   "outputs": [],
   "source": [
    "def load_datasets(train_dir, val_dir, test_dir, img_size=(224, 224), batch_size=32):\n",
    "    \"\"\"\n",
    "    Loads train, validation, and test datasets from directories.\n",
    "    Yields raw images (pixels 0-255) and labels.\n",
    "    \"\"\"\n",
    "    \n",
    "    train_ds = tf.keras.utils.image_dataset_from_directory(\n",
    "        train_dir,\n",
    "        label_mode='binary',\n",
    "        image_size=img_size,\n",
    "        batch_size=batch_size\n",
    "    )\n",
    "    \n",
    "    val_ds = tf.keras.utils.image_dataset_from_directory(\n",
    "        val_dir,\n",
    "        label_mode='binary',\n",
    "        image_size=img_size,\n",
    "        batch_size=batch_size,\n",
    "        shuffle=False\n",
    "    )\n",
    "    \n",
    "    test_ds = tf.keras.utils.image_dataset_from_directory(\n",
    "        test_dir,\n",
    "        label_mode='binary',\n",
    "        image_size=img_size,\n",
    "        batch_size=batch_size,\n",
    "        shuffle=False\n",
    "    )\n",
    "\n",
    "    print(f\"Loading datasets with image size {img_size}...\")\n",
    "    print(f\"Found class names: {train_ds.class_names}\")\n",
    "\n",
    "    # Configure the datasets for high performance on your M3 GPU\n",
    "    AUTOTUNE = tf.data.AUTOTUNE\n",
    "    train_ds = train_ds.cache().shuffle(1000).prefetch(buffer_size=AUTOTUNE)\n",
    "    val_ds = val_ds.cache().prefetch(buffer_size=AUTOTUNE)\n",
    "    test_ds = test_ds.cache().prefetch(buffer_size=AUTOTUNE)\n",
    "    \n",
    "    return train_ds, val_ds, test_ds"
   ]
  },
  {
   "cell_type": "markdown",
   "id": "e95427de",
   "metadata": {},
   "source": [
    "### Creating a model"
   ]
  },
  {
   "cell_type": "code",
   "execution_count": 6,
   "id": "88ae1320",
   "metadata": {},
   "outputs": [],
   "source": [
    "def create_model(base_model, preprocess_func, img_shape):\n",
    "    \"\"\"Builds a complete model from a base and its preprocess function.\"\"\"\n",
    "    \n",
    "    # Freeze the base model\n",
    "    base_model.trainable = False\n",
    "    \n",
    "    # Create the functional model\n",
    "    inputs = layers.Input(shape=img_shape, name=\"input_layer\")\n",
    "    \n",
    "    # Add data augmentation as a layer\n",
    "    x = layers.RandomFlip(\"horizontal\")(inputs)\n",
    "    x = layers.RandomRotation(0.2)(x)\n",
    "    \n",
    "    # Add the model-specific preprocessing as a layer\n",
    "    x = preprocess_func(x)\n",
    "    \n",
    "    x = base_model(x, training=False)\n",
    "    x = layers.GlobalAveragePooling2D()(x)\n",
    "    x = layers.Dropout(0.2)(x)\n",
    "    outputs = layers.Dense(1, activation=\"sigmoid\")(x) # Binary classification\n",
    "    \n",
    "    model = Model(inputs, outputs)\n",
    "    \n",
    "    # Compile the model\n",
    "    model.compile(\n",
    "        loss=\"binary_crossentropy\",\n",
    "        optimizer=tf.keras.optimizers.legacy.Adam(),\n",
    "        metrics=[\"binary_accuracy\"]\n",
    "    )\n",
    "    return model"
   ]
  },
  {
   "cell_type": "markdown",
   "id": "d5eee466",
   "metadata": {},
   "source": [
    "### Models"
   ]
  },
  {
   "cell_type": "code",
   "execution_count": 7,
   "id": "0ba5ef0b",
   "metadata": {},
   "outputs": [],
   "source": [
    "# --- Getter function for MobileNetV2 ---\n",
    "def get_mobilenet_v2_model(img_shape=(224, 224, 3)):\n",
    "    from keras.applications import MobileNetV2\n",
    "    from keras.applications.mobilenet_v2 import preprocess_input\n",
    "    \n",
    "    base = MobileNetV2(input_shape=img_shape, include_top=False, weights='imagenet')\n",
    "    return create_model(base, preprocess_input, img_shape)\n",
    "\n",
    "def get_mobilenet_v3_small_model(img_shape=(224, 224, 3)):\n",
    "    \"\"\"Returns a compiled MobileNetV3-Small model.\"\"\"\n",
    "    # 1. Import the V3 model and its preprocessing function\n",
    "    from keras.applications import MobileNetV3Small\n",
    "    from keras.applications.mobilenet_v3 import preprocess_input\n",
    "    \n",
    "    # 2. Get the base model\n",
    "    base = MobileNetV3Small(\n",
    "        input_shape=img_shape,\n",
    "        include_top=False,\n",
    "        weights='imagenet'\n",
    "    )\n",
    "    \n",
    "    return create_model(base, preprocess_input, img_shape)\n",
    "\n",
    "def get_mobilenet_v3_large_model(img_shape=(224, 224, 3)):\n",
    "    \"\"\"Returns a compiled MobileNetV3-Large model.\"\"\"\n",
    "    \n",
    "    # 1. Import the specific V3-Large model\n",
    "    from keras.applications import MobileNetV3Large\n",
    "    from keras.applications.mobilenet_v3 import preprocess_input\n",
    "    \n",
    "    # 2. Instantiate the base model\n",
    "    base = MobileNetV3Large(\n",
    "        input_shape=img_shape,\n",
    "        include_top=False,\n",
    "        weights='imagenet'\n",
    "    )\n",
    "    \n",
    "    return create_model(base, preprocess_input, img_shape)\n",
    "\n",
    "\n",
    "def get_resnet50_model(img_shape=(224, 224, 3)):\n",
    "    from keras.applications import ResNet50\n",
    "    from keras.applications.resnet import preprocess_input\n",
    "    \n",
    "    base = ResNet50(input_shape=img_shape, include_top=False, weights='imagenet')\n",
    "    return create_model(base, preprocess_input, img_shape)\n",
    "\n",
    "def get_resnet50_v2_model(img_shape=(224, 224, 3)):\n",
    "    \"\"\"Returns a compiled ResNet50V2 model.\"\"\"\n",
    "    \n",
    "    # 1. Import the V2 model and its specific preprocessing function\n",
    "    from keras.applications import ResNet50V2\n",
    "    from keras.applications.resnet_v2 import preprocess_input\n",
    "    \n",
    "    # 2. Instantiate the base model\n",
    "    base = ResNet50V2(\n",
    "        input_shape=img_shape,\n",
    "        include_top=False,\n",
    "        weights='imagenet'\n",
    "    )\n",
    "    \n",
    "    # 3. Use our existing model factory to build the full model\n",
    "    return create_model(base, preprocess_input, img_shape)\n",
    "\n",
    "def get_efficientnet_b0_model(img_shape=(224, 224, 3)):\n",
    "    from keras.applications import EfficientNetB0\n",
    "    from keras.applications.efficientnet import preprocess_input \n",
    "    \n",
    "    base = EfficientNetB0(input_shape=img_shape, include_top=False, weights='imagenet')\n",
    "    return create_model(base, preprocess_input, img_shape)\n",
    "\n",
    "def get_densenet121_model(img_shape=(224, 224, 3)):\n",
    "    from keras.applications import DenseNet121\n",
    "    from keras.applications.densenet import preprocess_input\n",
    "    \n",
    "    base = DenseNet121(input_shape=img_shape, include_top=False, weights='imagenet')\n",
    "    return create_model(base, preprocess_input, img_shape)\n",
    "\n",
    "def get_xception_model(img_shape=(299, 299, 3)):\n",
    "    from keras.applications import Xception\n",
    "    from keras.applications.xception import preprocess_input\n",
    "    \n",
    "    base = Xception(input_shape=img_shape, include_top=False, weights='imagenet')\n",
    "    return create_model(base, preprocess_input, img_shape)"
   ]
  },
  {
   "cell_type": "markdown",
   "id": "75980396",
   "metadata": {},
   "source": [
    "### Evaluation"
   ]
  },
  {
   "cell_type": "code",
   "execution_count": 8,
   "id": "5aeef5da",
   "metadata": {},
   "outputs": [],
   "source": [
    "def plot_training_history(history, save_path):\n",
    "    \"\"\"\n",
    "    Takes a Keras training history object and plots/saves the loss and accuracy curves.\n",
    "    \"\"\"\n",
    "    print(\"\\n--- Generating Training Plots ---\")\n",
    "\n",
    "    # Get the data from the history object\n",
    "    train_loss = history.history['loss']\n",
    "    val_loss = history.history['val_loss']\n",
    "    \n",
    "    # Check for 'binary_accuracy' or 'accuracy'\n",
    "    if 'binary_accuracy' in history.history:\n",
    "        train_acc_key = 'binary_accuracy'\n",
    "        val_acc_key = 'val_binary_accuracy'\n",
    "    else:\n",
    "        train_acc_key = 'accuracy'\n",
    "        val_acc_key = 'val_accuracy'\n",
    "        \n",
    "    train_acc = history.history[train_acc_key]\n",
    "    val_acc = history.history[val_acc_key]\n",
    "\n",
    "    # Get the number of epochs\n",
    "    epochs = range(1, len(train_loss) + 1)\n",
    "\n",
    "    # --- Create Plot 1: Training & Validation Loss ---\n",
    "    plt.figure(figsize=(14, 6))\n",
    "    plt.subplot(1, 2, 1)  # 1 row, 2 columns, plot 1\n",
    "    plt.plot(epochs, train_loss, 'bo-', label='Training Loss')\n",
    "    plt.plot(epochs, val_loss, 'ro-', label='Validation Loss')\n",
    "    plt.title('Training and Validation Loss')\n",
    "    plt.xlabel('Epochs')\n",
    "    plt.ylabel('Loss')\n",
    "    plt.legend()\n",
    "\n",
    "    # --- Create Plot 2: Training & Validation Accuracy ---\n",
    "    plt.subplot(1, 2, 2)  # 1 row, 2 columns, plot 2\n",
    "    plt.plot(epochs, train_acc, 'bo-', label='Training Accuracy')\n",
    "    plt.plot(epochs, val_acc, 'ro-', label='Validation Accuracy')\n",
    "    plt.title('Training and Validation Accuracy')\n",
    "    plt.xlabel('Epochs')\n",
    "    plt.ylabel('Accuracy')\n",
    "    plt.legend()\n",
    "\n",
    "    plt.tight_layout() # Adjusts plots to prevent overlap\n",
    "\n",
    "    # Save the combined plot as an image\n",
    "    plt.savefig(save_path)\n",
    "    print(f\"Training plots saved to {save_path}\")\n",
    "    plt.show()\n",
    "\n",
    "\n",
    "def print_classification_report(y_true, y_pred_classes, class_names, model_save_path):\n",
    "    \"\"\"\n",
    "    Prints a full classification report, including model file size.\n",
    "    \"\"\"\n",
    "    print(\"\\n--- Classification Report ---\")\n",
    "    \n",
    "    # 1. Accuracy, Precision, Recall, F1-score\n",
    "    # This function builds a text report showing all the main metrics.\n",
    "    report = classification_report(y_true, y_pred_classes, target_names=class_names)\n",
    "    print(report)\n",
    "\n",
    "    # 2. Model Size\n",
    "    if os.path.exists(model_save_path):\n",
    "        model_size_bytes = os.path.getsize(model_save_path)\n",
    "        model_size_mb = model_size_bytes / (1024 * 1024)\n",
    "        print(f\"--- Model Size ---\")\n",
    "        print(f\"Model saved at: {model_save_path}\")\n",
    "        print(f\"File Size: {model_size_mb:.2f} MB\")\n",
    "    else:\n",
    "        print(f\"Could not find model file at: {model_save_path}\")"
   ]
  },
  {
   "cell_type": "code",
   "execution_count": 9,
   "id": "c7c422fb",
   "metadata": {},
   "outputs": [],
   "source": [
    "def inference_latency(test_ds, model, modelName):\n",
    "    # taking the first batch from test_ds\n",
    "    first_batch  = test_ds.take(1)\n",
    "    \n",
    "    for images, labels in first_batch:\n",
    "        # 'images' is a tensor of shape (32, 224, 224, 3)\n",
    "        # 'labels' is a tensor of shape (32,)\n",
    "        \n",
    "        # Get the very first image from the batch tensor\n",
    "        single_real_image = images[0] # Shape is now (224, 224, 3)\n",
    "        \n",
    "        # The model expects a batch, so we add a dimension at the front\n",
    "        single_real_image_batch = tf.expand_dims(single_real_image, axis=0) # Shape is now (1, 224, 224, 3)\n",
    "        \n",
    "        print(f\"Successfully extracted one image with shape: {single_real_image_batch.shape}\")\n",
    "        break # We only need one, so we exit the loop\n",
    "    \n",
    "    print(f\"\\n--- Benchmarking LATENCY with a real image for {modelName}---\")\n",
    "    \n",
    "    # Warm-up run with the real image\n",
    "    print(\"Warming up model...\")\n",
    "    model.predict(single_real_image_batch, verbose=0)\n",
    "    print(\"Warm-up complete.\")\n",
    "\n",
    "    # Timed run\n",
    "    N_ITERATIONS = 100\n",
    "    print(f\"Running {N_ITERATIONS} predictions for latency test...\")\n",
    "    start_time = time.perf_counter()\n",
    "    for _ in range(N_ITERATIONS):\n",
    "        model.predict(single_real_image_batch, verbose=0)\n",
    "    end_time = time.perf_counter()\n",
    "\n",
    "    # Calculate and print latency\n",
    "    total_time = end_time - start_time\n",
    "    avg_latency_ms = (total_time / N_ITERATIONS) * 1000\n",
    "    print(f\"Average Latency (on a real image): {avg_latency_ms:.2f} ms\")\n",
    "    "
   ]
  },
  {
   "cell_type": "code",
   "execution_count": 10,
   "id": "8a448843",
   "metadata": {},
   "outputs": [
    {
     "name": "stdout",
     "output_type": "stream",
     "text": [
      "Found 3931 files belonging to 2 classes.\n",
      "Found 842 files belonging to 2 classes.\n",
      "Found 845 files belonging to 2 classes.\n",
      "Loading datasets with image size (224, 224)...\n",
      "Found class names: ['environment', 'studio']\n"
     ]
    }
   ],
   "source": [
    "train_ds, val_ds, test_ds = load_datasets(\n",
    "    TRAIN_DIR, VAL_DIR, TEST_DIR, img_size=IMG_SIZE, batch_size=BATCH_SIZE\n",
    ")"
   ]
  },
  {
   "cell_type": "markdown",
   "id": "3063d550",
   "metadata": {},
   "source": [
    "### MobileNetV2"
   ]
  },
  {
   "cell_type": "code",
   "execution_count": 19,
   "id": "b0810595",
   "metadata": {},
   "outputs": [
    {
     "name": "stdout",
     "output_type": "stream",
     "text": [
      "Model: \"model_1\"\n",
      "_________________________________________________________________\n",
      " Layer (type)                Output Shape              Param #   \n",
      "=================================================================\n",
      " input_layer (InputLayer)    [(None, 224, 224, 3)]     0         \n",
      "                                                                 \n",
      " random_flip_1 (RandomFlip)  (None, 224, 224, 3)       0         \n",
      "                                                                 \n",
      " random_rotation_1 (RandomR  (None, 224, 224, 3)       0         \n",
      " otation)                                                        \n",
      "                                                                 \n",
      " tf.math.truediv (TFOpLambd  (None, 224, 224, 3)       0         \n",
      " a)                                                              \n",
      "                                                                 \n",
      " tf.math.subtract (TFOpLamb  (None, 224, 224, 3)       0         \n",
      " da)                                                             \n",
      "                                                                 \n",
      " mobilenetv2_1.00_224 (Func  (None, 7, 7, 1280)        2257984   \n",
      " tional)                                                         \n",
      "                                                                 \n",
      " global_average_pooling2d_1  (None, 1280)              0         \n",
      "  (GlobalAveragePooling2D)                                       \n",
      "                                                                 \n",
      " dropout_1 (Dropout)         (None, 1280)              0         \n",
      "                                                                 \n",
      " dense_1 (Dense)             (None, 1)                 1281      \n",
      "                                                                 \n",
      "=================================================================\n",
      "Total params: 2259265 (8.62 MB)\n",
      "Trainable params: 1281 (5.00 KB)\n",
      "Non-trainable params: 2257984 (8.61 MB)\n",
      "_________________________________________________________________\n"
     ]
    }
   ],
   "source": [
    "MODEL_NAME = \"mobilenet_v2_model.keras\"\n",
    "model = get_mobilenet_v2_model(img_shape=IMG_SIZE + (3,))\n",
    "model.summary()"
   ]
  },
  {
   "cell_type": "code",
   "execution_count": 20,
   "id": "69120f65",
   "metadata": {},
   "outputs": [],
   "source": [
    "early_stopping_callback = EarlyStopping(\n",
    "    min_delta = 0.001,\n",
    "    monitor='val_loss',\n",
    "    patience=3,\n",
    "    restore_best_weights=True\n",
    ")\n",
    "\n",
    "# Reduce Learning Rate on Plateau: Reduce LR when val_loss plateaus for 2 epochs\n",
    "reduce_lr = ReduceLROnPlateau(\n",
    "    monitor='val_loss',\n",
    "    factor=0.2,  # Reduce learning rate by a factor of 5 (1/5)\n",
    "    patience=2,\n",
    "    min_lr=0.00001, # Don't let the learning rate get too small\n",
    "    verbose=1\n",
    ")"
   ]
  },
  {
   "cell_type": "code",
   "execution_count": 21,
   "id": "0080ee03",
   "metadata": {},
   "outputs": [
    {
     "name": "stdout",
     "output_type": "stream",
     "text": [
      "Epoch 1/100\n",
      "123/123 - 12s - loss: 0.2022 - binary_accuracy: 0.9242 - val_loss: 0.1324 - val_binary_accuracy: 0.9572 - lr: 0.0010 - 12s/epoch - 100ms/step\n",
      "Epoch 2/100\n",
      "123/123 - 10s - loss: 0.0949 - binary_accuracy: 0.9667 - val_loss: 0.1159 - val_binary_accuracy: 0.9537 - lr: 0.0010 - 10s/epoch - 82ms/step\n",
      "Epoch 3/100\n",
      "123/123 - 10s - loss: 0.0743 - binary_accuracy: 0.9771 - val_loss: 0.0969 - val_binary_accuracy: 0.9727 - lr: 0.0010 - 10s/epoch - 83ms/step\n",
      "Epoch 4/100\n",
      "123/123 - 10s - loss: 0.0691 - binary_accuracy: 0.9794 - val_loss: 0.0959 - val_binary_accuracy: 0.9644 - lr: 0.0010 - 10s/epoch - 82ms/step\n",
      "Epoch 5/100\n",
      "123/123 - 10s - loss: 0.0648 - binary_accuracy: 0.9776 - val_loss: 0.0921 - val_binary_accuracy: 0.9679 - lr: 0.0010 - 10s/epoch - 83ms/step\n",
      "Epoch 6/100\n",
      "123/123 - 10s - loss: 0.0547 - binary_accuracy: 0.9799 - val_loss: 0.1063 - val_binary_accuracy: 0.9561 - lr: 0.0010 - 10s/epoch - 82ms/step\n",
      "Epoch 7/100\n",
      "123/123 - 10s - loss: 0.0567 - binary_accuracy: 0.9802 - val_loss: 0.0920 - val_binary_accuracy: 0.9644 - lr: 0.0010 - 10s/epoch - 82ms/step\n",
      "Epoch 8/100\n",
      "123/123 - 10s - loss: 0.0484 - binary_accuracy: 0.9845 - val_loss: 0.0882 - val_binary_accuracy: 0.9679 - lr: 0.0010 - 10s/epoch - 83ms/step\n",
      "Epoch 9/100\n",
      "123/123 - 10s - loss: 0.0502 - binary_accuracy: 0.9830 - val_loss: 0.0822 - val_binary_accuracy: 0.9691 - lr: 0.0010 - 10s/epoch - 83ms/step\n",
      "Epoch 10/100\n",
      "123/123 - 10s - loss: 0.0486 - binary_accuracy: 0.9860 - val_loss: 0.0817 - val_binary_accuracy: 0.9727 - lr: 0.0010 - 10s/epoch - 82ms/step\n",
      "Epoch 11/100\n",
      "123/123 - 10s - loss: 0.0478 - binary_accuracy: 0.9860 - val_loss: 0.0832 - val_binary_accuracy: 0.9703 - lr: 0.0010 - 10s/epoch - 83ms/step\n",
      "Epoch 12/100\n",
      "\n",
      "Epoch 12: ReduceLROnPlateau reducing learning rate to 0.00020000000949949026.\n",
      "123/123 - 10s - loss: 0.0437 - binary_accuracy: 0.9863 - val_loss: 0.0885 - val_binary_accuracy: 0.9679 - lr: 0.0010 - 10s/epoch - 83ms/step\n"
     ]
    }
   ],
   "source": [
    "history = model.fit(\n",
    "    train_ds,\n",
    "    epochs=EPOCHS,\n",
    "    validation_data=val_ds,\n",
    "    callbacks=[early_stopping_callback, reduce_lr],\n",
    "    verbose = 2\n",
    "    \n",
    ")"
   ]
  },
  {
   "cell_type": "code",
   "execution_count": 22,
   "id": "04286f67",
   "metadata": {},
   "outputs": [
    {
     "name": "stdout",
     "output_type": "stream",
     "text": [
      "\n",
      "--- Final Evaluation on Test Set ---\n",
      "27/27 [==============================] - 2s 64ms/step - loss: 0.0892 - binary_accuracy: 0.9704\n",
      "Final Test Accuracy: 97.04%\n"
     ]
    }
   ],
   "source": [
    "print(\"\\n--- Final Evaluation on Test Set ---\")\n",
    "loss, accuracy = model.evaluate(test_ds)\n",
    "print(f\"Final Test Accuracy: {accuracy*100:.2f}%\")"
   ]
  },
  {
   "cell_type": "code",
   "execution_count": 23,
   "id": "6b8e3c1d",
   "metadata": {},
   "outputs": [
    {
     "name": "stdout",
     "output_type": "stream",
     "text": [
      "Model successfully saved to mobilenet_v2_model.keras\n"
     ]
    }
   ],
   "source": [
    "model.save(MODEL_NAME)\n",
    "print(f\"Model successfully saved to {MODEL_NAME}\")"
   ]
  },
  {
   "cell_type": "code",
   "execution_count": 24,
   "id": "f95b1f18",
   "metadata": {},
   "outputs": [
    {
     "name": "stdout",
     "output_type": "stream",
     "text": [
      "\n",
      "--- Generating Predictions for Reports ---\n",
      "27/27 [==============================] - 2s 63ms/step\n",
      "\n",
      "--- Generating Training Plots ---\n",
      "Training plots saved to mobilenet_v2_history.png\n"
     ]
    },
    {
     "data": {
      "image/png": "[encoded data removed]",
      "text/plain": [
       "<Figure size 1400x600 with 2 Axes>"
      ]
     },
     "metadata": {},
     "output_type": "display_data"
    },
    {
     "name": "stdout",
     "output_type": "stream",
     "text": [
      "\n",
      "--- Classification Report ---\n",
      "              precision    recall  f1-score   support\n",
      "\n",
      " environment       0.96      0.96      0.96       338\n",
      "      studio       0.98      0.97      0.98       507\n",
      "\n",
      "    accuracy                           0.97       845\n",
      "   macro avg       0.97      0.97      0.97       845\n",
      "weighted avg       0.97      0.97      0.97       845\n",
      "\n",
      "--- Model Size ---\n",
      "Model saved at: mobilenet_v2_model.keras\n",
      "File Size: 9.13 MB\n",
      "\n",
      "--- Generating Confusion Matrix Plot ---\n",
      "Confusion matrix saved to mobilenet_v2_model.png\n"
     ]
    },
    {
     "data": {
      "image/png": "[encoded data removed]",
      "text/plain": [
       "<Figure size 800x600 with 2 Axes>"
      ]
     },
     "metadata": {},
     "output_type": "display_data"
    }
   ],
   "source": [
    "# --- 6. Generate All Reports and Plots ---\n",
    "\n",
    "# Get Predictions and True Labels (needed for reports)\n",
    "print(\"\\n--- Generating Predictions for Reports ---\")\n",
    "y_pred_probs = model.predict(test_ds)\n",
    "y_pred_classes = (y_pred_probs > 0.5).astype(int).flatten()\n",
    "y_true = np.concatenate([y for x, y in test_ds], axis=0)\n",
    "\n",
    "# 7. (NEW) Plot the training history using our function\n",
    "plot_training_history(history, save_path=\"mobilenet_v2_history.png\")\n",
    "\n",
    "# Get class names for reports\n",
    "class_names = ['environment', 'studio']\n",
    "\n",
    "# 8. (NEW) Generate the full classification report\n",
    "print_classification_report(y_true, y_pred_classes, class_names, MODEL_NAME)\n",
    "\n",
    "# 9. Plot the confusion matrix (same as before)\n",
    "print(\"\\n--- Generating Confusion Matrix Plot ---\")\n",
    "cm = confusion_matrix(y_true, y_pred_classes)\n",
    "plt.figure(figsize=(8, 6))\n",
    "sns.heatmap(\n",
    "    cm,\n",
    "    annot=True,\n",
    "    fmt=\"d\",\n",
    "    cmap=\"Blues\",\n",
    "    xticklabels=class_names,\n",
    "    yticklabels=class_names\n",
    ")\n",
    "plt.xlabel(\"Predicted Label\")\n",
    "plt.ylabel(\"True Label\")\n",
    "plt.title(\"Confusion Matrix\")\n",
    "plt.savefig(f\"{MODEL_NAME.replace('.keras','')}.png\")\n",
    "print(f\"Confusion matrix saved to {MODEL_NAME.replace('.keras','')}.png\")\n",
    "plt.show()"
   ]
  },
  {
   "cell_type": "code",
   "execution_count": 25,
   "id": "f5959932",
   "metadata": {},
   "outputs": [
    {
     "name": "stdout",
     "output_type": "stream",
     "text": [
      "Successfully extracted one image with shape: (1, 224, 224, 3)\n",
      "\n",
      "--- Benchmarking LATENCY with a real image for mobilenet_v2_model---\n",
      "Warming up model...\n",
      "Warm-up complete.\n",
      "Running 100 predictions for latency test...\n",
      "Average Latency (on a real image): 40.84 ms\n"
     ]
    }
   ],
   "source": [
    "# Average latency per lookup\n",
    "inference_latency(test_ds, model, MODEL_NAME.replace('.keras',''))"
   ]
  },
  {
   "cell_type": "markdown",
   "id": "4e20e5f9",
   "metadata": {},
   "source": [
    "### MobileNetV3Large"
   ]
  },
  {
   "cell_type": "code",
   "execution_count": null,
   "id": "6eccee3e",
   "metadata": {},
   "outputs": [],
   "source": [
    "MODEL_NAME = \"mobilenet_v3_large_model.keras\"\n",
    "model = get_mobilenet_v3_large_model(img_shape=IMG_SIZE + (3,))\n",
    "model.summary()"
   ]
  },
  {
   "cell_type": "code",
   "execution_count": null,
   "id": "2b9ae31b",
   "metadata": {},
   "outputs": [],
   "source": [
    "early_stopping_callback = EarlyStopping(\n",
    "    min_delta = 0.001,\n",
    "    monitor='val_loss',\n",
    "    patience=3,\n",
    "    restore_best_weights=True\n",
    ")\n",
    "\n",
    "# Reduce Learning Rate on Plateau: Reduce LR when val_loss plateaus for 2 epochs\n",
    "reduce_lr = ReduceLROnPlateau(\n",
    "    monitor='val_loss',\n",
    "    factor=0.2,  # Reduce learning rate by a factor of 5 (1/5)\n",
    "    patience=2,\n",
    "    min_lr=0.00001, # Don't let the learning rate get too small\n",
    "    verbose=1\n",
    ")"
   ]
  },
  {
   "cell_type": "code",
   "execution_count": null,
   "id": "4d61fa15",
   "metadata": {},
   "outputs": [],
   "source": [
    "history = model.fit(\n",
    "    train_ds,\n",
    "    epochs=EPOCHS,\n",
    "    validation_data=val_ds,\n",
    "    callbacks=[early_stopping_callback, reduce_lr],\n",
    "    verbose = 2\n",
    "    \n",
    ")"
   ]
  },
  {
   "cell_type": "code",
   "execution_count": null,
   "id": "0062e798",
   "metadata": {},
   "outputs": [],
   "source": [
    "print(\"\\n--- Final Evaluation on Test Set ---\")\n",
    "loss, accuracy = model.evaluate(test_ds)\n",
    "print(f\"Final Test Accuracy: {accuracy*100:.2f}%\")"
   ]
  },
  {
   "cell_type": "code",
   "execution_count": null,
   "id": "177323b7",
   "metadata": {},
   "outputs": [],
   "source": [
    "model.save(MODEL_NAME)\n",
    "print(f\"Model successfully saved to {MODEL_NAME}\")"
   ]
  },
  {
   "cell_type": "code",
   "execution_count": null,
   "id": "cdb84bcf",
   "metadata": {},
   "outputs": [],
   "source": [
    "# --- 6. Generate All Reports and Plots ---\n",
    "\n",
    "# Get Predictions and True Labels (needed for reports)\n",
    "print(\"\\n--- Generating Predictions for Reports ---\")\n",
    "y_pred_probs = model.predict(test_ds)\n",
    "y_pred_classes = (y_pred_probs > 0.5).astype(int).flatten()\n",
    "y_true = np.concatenate([y for x, y in test_ds], axis=0)\n",
    "\n",
    "# 7. (NEW) Plot the training history using our function\n",
    "plot_training_history(history, save_path=\"mobilenet_v2_history.png\")\n",
    "\n",
    "# Get class names for reports\n",
    "class_names = ['environment', 'studio']\n",
    "\n",
    "# 8. (NEW) Generate the full classification report\n",
    "print_classification_report(y_true, y_pred_classes, class_names, MODEL_NAME)\n",
    "\n",
    "# 9. Plot the confusion matrix (same as before)\n",
    "print(\"\\n--- Generating Confusion Matrix Plot ---\")\n",
    "cm = confusion_matrix(y_true, y_pred_classes)\n",
    "plt.figure(figsize=(8, 6))\n",
    "sns.heatmap(\n",
    "    cm,\n",
    "    annot=True,\n",
    "    fmt=\"d\",\n",
    "    cmap=\"Blues\",\n",
    "    xticklabels=class_names,\n",
    "    yticklabels=class_names\n",
    ")\n",
    "plt.xlabel(\"Predicted Label\")\n",
    "plt.ylabel(\"True Label\")\n",
    "plt.title(\"Confusion Matrix\")\n",
    "plt.savefig(f\"{MODEL_NAME.replace('.keras','')}.png\")\n",
    "print(f\"Confusion matrix saved to {MODEL_NAME.replace('.keras','')}.png\")\n",
    "plt.show()"
   ]
  },
  {
   "cell_type": "code",
   "execution_count": null,
   "id": "bf4eb62d",
   "metadata": {},
   "outputs": [],
   "source": [
    "# Average latency per lookup\n",
    "inference_latency(test_ds, model, MODEL_NAME.replace('.keras',''))"
   ]
  },
  {
   "cell_type": "markdown",
   "id": "507db785",
   "metadata": {},
   "source": [
    "### MobileNetV3Small"
   ]
  },
  {
   "cell_type": "code",
   "execution_count": 28,
   "id": "8f759305",
   "metadata": {},
   "outputs": [
    {
     "name": "stdout",
     "output_type": "stream",
     "text": [
      "Model: \"model_2\"\n",
      "_________________________________________________________________\n",
      " Layer (type)                Output Shape              Param #   \n",
      "=================================================================\n",
      " input_layer (InputLayer)    [(None, 224, 224, 3)]     0         \n",
      "                                                                 \n",
      " random_flip_2 (RandomFlip)  (None, 224, 224, 3)       0         \n",
      "                                                                 \n",
      " random_rotation_2 (RandomR  (None, 224, 224, 3)       0         \n",
      " otation)                                                        \n",
      "                                                                 \n",
      " MobilenetV3small (Function  (None, 7, 7, 576)         939120    \n",
      " al)                                                             \n",
      "                                                                 \n",
      " global_average_pooling2d_2  (None, 576)               0         \n",
      "  (GlobalAveragePooling2D)                                       \n",
      "                                                                 \n",
      " dropout_2 (Dropout)         (None, 576)               0         \n",
      "                                                                 \n",
      " dense_2 (Dense)             (None, 1)                 577       \n",
      "                                                                 \n",
      "=================================================================\n",
      "Total params: 939697 (3.58 MB)\n",
      "Trainable params: 577 (2.25 KB)\n",
      "Non-trainable params: 939120 (3.58 MB)\n",
      "_________________________________________________________________\n"
     ]
    }
   ],
   "source": [
    "MODEL_NAME = \"mobilenet_v3_small_model.keras\"\n",
    "model = get_mobilenet_v3_small_model(img_shape=IMG_SIZE + (3,))\n",
    "model.summary()"
   ]
  },
  {
   "cell_type": "code",
   "execution_count": 29,
   "id": "1e7f22e7",
   "metadata": {},
   "outputs": [],
   "source": [
    "early_stopping_callback = EarlyStopping(\n",
    "    min_delta = 0.001,\n",
    "    monitor='val_loss',\n",
    "    patience=6,\n",
    "    restore_best_weights=True\n",
    ")\n",
    "\n",
    "# Reduce Learning Rate on Plateau: Reduce LR when val_loss plateaus for 2 epochs\n",
    "reduce_lr = ReduceLROnPlateau(\n",
    "    monitor='val_loss',\n",
    "    factor=0.2,  # Reduce learning rate by a factor of 5 (1/5)\n",
    "    patience=2,\n",
    "    min_lr=0.00001, # Don't let the learning rate get too small\n",
    "    verbose=1\n",
    ")"
   ]
  },
  {
   "cell_type": "code",
   "execution_count": 30,
   "id": "1d0c96c5",
   "metadata": {},
   "outputs": [
    {
     "name": "stdout",
     "output_type": "stream",
     "text": [
      "Epoch 1/100\n",
      "123/123 - 9s - loss: 0.2741 - binary_accuracy: 0.8944 - val_loss: 0.1683 - val_binary_accuracy: 0.9561 - lr: 0.0010 - 9s/epoch - 73ms/step\n",
      "Epoch 2/100\n",
      "123/123 - 6s - loss: 0.1174 - binary_accuracy: 0.9624 - val_loss: 0.1279 - val_binary_accuracy: 0.9644 - lr: 0.0010 - 6s/epoch - 49ms/step\n",
      "Epoch 3/100\n",
      "123/123 - 6s - loss: 0.0935 - binary_accuracy: 0.9692 - val_loss: 0.1108 - val_binary_accuracy: 0.9667 - lr: 0.0010 - 6s/epoch - 47ms/step\n",
      "Epoch 4/100\n",
      "123/123 - 6s - loss: 0.0784 - binary_accuracy: 0.9751 - val_loss: 0.1031 - val_binary_accuracy: 0.9727 - lr: 0.0010 - 6s/epoch - 49ms/step\n",
      "Epoch 5/100\n",
      "123/123 - 8s - loss: 0.0756 - binary_accuracy: 0.9751 - val_loss: 0.0982 - val_binary_accuracy: 0.9727 - lr: 0.0010 - 8s/epoch - 63ms/step\n",
      "Epoch 6/100\n",
      "123/123 - 9s - loss: 0.0700 - binary_accuracy: 0.9758 - val_loss: 0.0941 - val_binary_accuracy: 0.9751 - lr: 0.0010 - 9s/epoch - 76ms/step\n",
      "Epoch 7/100\n",
      "123/123 - 9s - loss: 0.0638 - binary_accuracy: 0.9794 - val_loss: 0.0904 - val_binary_accuracy: 0.9774 - lr: 0.0010 - 9s/epoch - 75ms/step\n",
      "Epoch 8/100\n",
      "123/123 - 9s - loss: 0.0624 - binary_accuracy: 0.9794 - val_loss: 0.0877 - val_binary_accuracy: 0.9751 - lr: 0.0010 - 9s/epoch - 75ms/step\n",
      "Epoch 9/100\n",
      "123/123 - 9s - loss: 0.0598 - binary_accuracy: 0.9791 - val_loss: 0.0875 - val_binary_accuracy: 0.9751 - lr: 0.0010 - 9s/epoch - 75ms/step\n",
      "Epoch 10/100\n",
      "123/123 - 9s - loss: 0.0567 - binary_accuracy: 0.9809 - val_loss: 0.0860 - val_binary_accuracy: 0.9751 - lr: 0.0010 - 9s/epoch - 75ms/step\n",
      "Epoch 11/100\n",
      "123/123 - 9s - loss: 0.0530 - binary_accuracy: 0.9819 - val_loss: 0.0848 - val_binary_accuracy: 0.9751 - lr: 0.0010 - 9s/epoch - 75ms/step\n",
      "Epoch 12/100\n",
      "123/123 - 9s - loss: 0.0515 - binary_accuracy: 0.9809 - val_loss: 0.0887 - val_binary_accuracy: 0.9715 - lr: 0.0010 - 9s/epoch - 74ms/step\n",
      "Epoch 13/100\n",
      "123/123 - 9s - loss: 0.0494 - binary_accuracy: 0.9824 - val_loss: 0.0837 - val_binary_accuracy: 0.9751 - lr: 0.0010 - 9s/epoch - 75ms/step\n",
      "Epoch 14/100\n",
      "123/123 - 9s - loss: 0.0498 - binary_accuracy: 0.9819 - val_loss: 0.0851 - val_binary_accuracy: 0.9739 - lr: 0.0010 - 9s/epoch - 74ms/step\n",
      "Epoch 15/100\n",
      "123/123 - 9s - loss: 0.0471 - binary_accuracy: 0.9835 - val_loss: 0.0836 - val_binary_accuracy: 0.9739 - lr: 0.0010 - 9s/epoch - 74ms/step\n",
      "Epoch 16/100\n",
      "123/123 - 9s - loss: 0.0515 - binary_accuracy: 0.9819 - val_loss: 0.0823 - val_binary_accuracy: 0.9751 - lr: 0.0010 - 9s/epoch - 74ms/step\n",
      "Epoch 17/100\n",
      "123/123 - 9s - loss: 0.0471 - binary_accuracy: 0.9850 - val_loss: 0.0820 - val_binary_accuracy: 0.9762 - lr: 0.0010 - 9s/epoch - 74ms/step\n",
      "Epoch 18/100\n",
      "123/123 - 9s - loss: 0.0439 - binary_accuracy: 0.9863 - val_loss: 0.0833 - val_binary_accuracy: 0.9739 - lr: 0.0010 - 9s/epoch - 75ms/step\n",
      "Epoch 19/100\n",
      "\n",
      "Epoch 19: ReduceLROnPlateau reducing learning rate to 0.00020000000949949026.\n",
      "123/123 - 9s - loss: 0.0439 - binary_accuracy: 0.9837 - val_loss: 0.0846 - val_binary_accuracy: 0.9739 - lr: 0.0010 - 9s/epoch - 75ms/step\n",
      "Epoch 20/100\n",
      "123/123 - 9s - loss: 0.0421 - binary_accuracy: 0.9852 - val_loss: 0.0831 - val_binary_accuracy: 0.9739 - lr: 2.0000e-04 - 9s/epoch - 75ms/step\n",
      "Epoch 21/100\n",
      "\n",
      "Epoch 21: ReduceLROnPlateau reducing learning rate to 4.0000001899898055e-05.\n",
      "123/123 - 9s - loss: 0.0425 - binary_accuracy: 0.9858 - val_loss: 0.0828 - val_binary_accuracy: 0.9739 - lr: 2.0000e-04 - 9s/epoch - 74ms/step\n",
      "Epoch 22/100\n",
      "123/123 - 9s - loss: 0.0422 - binary_accuracy: 0.9888 - val_loss: 0.0826 - val_binary_accuracy: 0.9739 - lr: 4.0000e-05 - 9s/epoch - 75ms/step\n"
     ]
    }
   ],
   "source": [
    "history = model.fit(\n",
    "    train_ds,\n",
    "    epochs=EPOCHS,\n",
    "    validation_data=val_ds,\n",
    "    callbacks=[early_stopping_callback, reduce_lr],\n",
    "    verbose = 2\n",
    "    \n",
    ")"
   ]
  },
  {
   "cell_type": "code",
   "execution_count": 31,
   "id": "676f4379",
   "metadata": {},
   "outputs": [
    {
     "name": "stdout",
     "output_type": "stream",
     "text": [
      "\n",
      "--- Final Evaluation on Test Set ---\n",
      "27/27 [==============================] - 1s 40ms/step - loss: 0.0788 - binary_accuracy: 0.9751\n",
      "Final Test Accuracy: 97.51%\n"
     ]
    }
   ],
   "source": [
    "print(\"\\n--- Final Evaluation on Test Set ---\")\n",
    "loss, accuracy = model.evaluate(test_ds)\n",
    "print(f\"Final Test Accuracy: {accuracy*100:.2f}%\")"
   ]
  },
  {
   "cell_type": "code",
   "execution_count": 32,
   "id": "d78af324",
   "metadata": {},
   "outputs": [
    {
     "name": "stdout",
     "output_type": "stream",
     "text": [
      "INFO:tensorflow:Assets written to: mobilenet_v3_small_model/assets\n"
     ]
    },
    {
     "name": "stderr",
     "output_type": "stream",
     "text": [
      "INFO:tensorflow:Assets written to: mobilenet_v3_small_model/assets\n"
     ]
    },
    {
     "name": "stdout",
     "output_type": "stream",
     "text": [
      "Model successfully saved to mobilenet_v3_small_model\n"
     ]
    }
   ],
   "source": [
    "model.save(\"mobilenet_v3_small_model\", save_format = \"tf\")\n",
    "print(f\"Model successfully saved to mobilenet_v3_small_model\")"
   ]
  },
  {
   "cell_type": "code",
   "execution_count": 33,
   "id": "e27f23d3",
   "metadata": {},
   "outputs": [
    {
     "name": "stdout",
     "output_type": "stream",
     "text": [
      "\n",
      "--- Generating Predictions for Reports ---\n",
      "27/27 [==============================] - 2s 40ms/step\n",
      "\n",
      "--- Generating Training Plots ---\n",
      "Training plots saved to mobilenet_v3_small_model-TrainingHistory.png\n"
     ]
    },
    {
     "data": {
      "image/png": "[encoded data removed]",
      "text/plain": [
       "<Figure size 1400x600 with 2 Axes>"
      ]
     },
     "metadata": {},
     "output_type": "display_data"
    },
    {
     "name": "stdout",
     "output_type": "stream",
     "text": [
      "\n",
      "--- Classification Report ---\n",
      "              precision    recall  f1-score   support\n",
      "\n",
      " environment       0.97      0.97      0.97       338\n",
      "      studio       0.98      0.98      0.98       507\n",
      "\n",
      "    accuracy                           0.98       845\n",
      "   macro avg       0.97      0.97      0.97       845\n",
      "weighted avg       0.98      0.98      0.98       845\n",
      "\n",
      "--- Model Size ---\n",
      "Model saved at: mobilenet_v3_small_model\n",
      "File Size: 0.00 MB\n",
      "\n",
      "--- Generating Confusion Matrix Plot ---\n",
      "Confusion matrix saved to mobilenet_v3_small_model.png\n"
     ]
    },
    {
     "data": {
      "image/png": "[encoded data removed]",
      "text/plain": [
       "<Figure size 800x600 with 2 Axes>"
      ]
     },
     "metadata": {},
     "output_type": "display_data"
    }
   ],
   "source": [
    "# --- 6. Generate All Reports and Plots ---\n",
    "\n",
    "# Get Predictions and True Labels (needed for reports)\n",
    "print(\"\\n--- Generating Predictions for Reports ---\")\n",
    "y_pred_probs = model.predict(test_ds)\n",
    "y_pred_classes = (y_pred_probs > 0.5).astype(int).flatten()\n",
    "y_true = np.concatenate([y for x, y in test_ds], axis=0)\n",
    "\n",
    "# 7. (NEW) Plot the training history using our function\n",
    "plot_training_history(history, save_path=f\"{MODEL_NAME.replace('.keras','')}-TrainingHistory.png\")\n",
    "\n",
    "# Get class names for reports\n",
    "class_names = ['environment', 'studio']\n",
    "\n",
    "# 8. (NEW) Generate the full classification report\n",
    "print_classification_report(y_true, y_pred_classes, class_names, \"mobilenet_v3_small_model\")\n",
    "\n",
    "# 9. Plot the confusion matrix (same as before)\n",
    "print(\"\\n--- Generating Confusion Matrix Plot ---\")\n",
    "cm = confusion_matrix(y_true, y_pred_classes)\n",
    "plt.figure(figsize=(8, 6))\n",
    "sns.heatmap(\n",
    "    cm,\n",
    "    annot=True,\n",
    "    fmt=\"d\",\n",
    "    cmap=\"Blues\",\n",
    "    xticklabels=class_names,\n",
    "    yticklabels=class_names\n",
    ")\n",
    "plt.xlabel(\"Predicted Label\")\n",
    "plt.ylabel(\"True Label\")\n",
    "plt.title(\"Confusion Matrix\")\n",
    "plt.savefig(f\"{MODEL_NAME.replace('.keras','')}-ConfusionMatrix.png\")\n",
    "print(f\"Confusion matrix saved to {MODEL_NAME.replace('.keras','')}.png\")\n",
    "plt.show()"
   ]
  },
  {
   "cell_type": "code",
   "execution_count": 34,
   "id": "6c2ae640",
   "metadata": {},
   "outputs": [
    {
     "name": "stdout",
     "output_type": "stream",
     "text": [
      "Successfully extracted one image with shape: (1, 224, 224, 3)\n",
      "\n",
      "--- Benchmarking LATENCY with a real image for mobilenet_v3_small_model---\n",
      "Warming up model...\n",
      "Warm-up complete.\n",
      "Running 100 predictions for latency test...\n",
      "Average Latency (on a real image): 32.35 ms\n"
     ]
    }
   ],
   "source": [
    "# Average latency per lookup\n",
    "inference_latency(test_ds, model, MODEL_NAME.replace('.keras',''))"
   ]
  },
  {
   "cell_type": "markdown",
   "id": "41e13e7c",
   "metadata": {},
   "source": [
    "### ResNet50"
   ]
  },
  {
   "cell_type": "code",
   "execution_count": null,
   "id": "caa1da0f",
   "metadata": {},
   "outputs": [],
   "source": [
    "MODEL_NAME = \"resnet50_furniture_model.keras\"\n",
    "model = get_resnet50_model(img_shape=IMG_SIZE + (3,))\n",
    "model.summary()"
   ]
  },
  {
   "cell_type": "code",
   "execution_count": null,
   "id": "da09b83c",
   "metadata": {},
   "outputs": [],
   "source": [
    "history = model.fit(\n",
    "    train_ds,\n",
    "    epochs=EPOCHS,\n",
    "    validation_data=val_ds,\n",
    "    callbacks=[early_stopping_callback, reduce_lr],\n",
    "    verbose = 2\n",
    "    \n",
    ")"
   ]
  },
  {
   "cell_type": "code",
   "execution_count": null,
   "id": "8427ef6a",
   "metadata": {},
   "outputs": [],
   "source": [
    "print(\"\\n--- Final Evaluation on Test Set ---\")\n",
    "loss, accuracy = model.evaluate(test_ds)\n",
    "print(f\"Final Test Accuracy: {accuracy*100:.2f}%\")"
   ]
  },
  {
   "cell_type": "code",
   "execution_count": null,
   "id": "2bff10c3",
   "metadata": {},
   "outputs": [],
   "source": [
    "model.save(MODEL_NAME)\n",
    "print(f\"Model successfully saved to {MODEL_NAME}\")"
   ]
  },
  {
   "cell_type": "code",
   "execution_count": null,
   "id": "eeba9d70",
   "metadata": {},
   "outputs": [],
   "source": [
    "# --- 6. Generate All Reports and Plots ---\n",
    "\n",
    "# Get Predictions and True Labels (needed for reports)\n",
    "print(\"\\n--- Generating Predictions for Reports ---\")\n",
    "y_pred_probs = model.predict(test_ds)\n",
    "y_pred_classes = (y_pred_probs > 0.5).astype(int).flatten()\n",
    "y_true = np.concatenate([y for x, y in test_ds], axis=0)\n",
    "\n",
    "# 7. (NEW) Plot the training history using our function\n",
    "plot_training_history(history, save_path=f\"{MODEL_NAME.replace('.keras','')}_history.png\")\n",
    "\n",
    "# Get class names for reports\n",
    "class_names = ['environment', 'studio']\n",
    "\n",
    "# 8. (NEW) Generate the full classification report\n",
    "print_classification_report(y_true, y_pred_classes, class_names, MODEL_NAME)\n",
    "\n",
    "# 9. Plot the confusion matrix (same as before)\n",
    "print(\"\\n--- Generating Confusion Matrix Plot ---\")\n",
    "cm = confusion_matrix(y_true, y_pred_classes)\n",
    "plt.figure(figsize=(8, 6))\n",
    "sns.heatmap(\n",
    "    cm,\n",
    "    annot=True,\n",
    "    fmt=\"d\",\n",
    "    cmap=\"Blues\",\n",
    "    xticklabels=class_names,\n",
    "    yticklabels=class_names\n",
    ")\n",
    "plt.xlabel(\"Predicted Label\")\n",
    "plt.ylabel(\"True Label\")\n",
    "plt.title(\"Confusion Matrix\")\n",
    "plt.savefig(f\"{MODEL_NAME.replace('.keras','')}.png\")\n",
    "print(f\"Confusion matrix saved to {MODEL_NAME.replace('.keras','')}.png\")\n",
    "plt.show()"
   ]
  },
  {
   "cell_type": "code",
   "execution_count": null,
   "id": "075539f3",
   "metadata": {},
   "outputs": [],
   "source": [
    "# Average latency per lookup\n",
    "inference_latency(test_ds, model, MODEL_NAME.replace('.keras',''))"
   ]
  },
  {
   "cell_type": "markdown",
   "id": "45946664",
   "metadata": {},
   "source": [
    "### ResNet50v2"
   ]
  },
  {
   "cell_type": "code",
   "execution_count": null,
   "id": "c7abb53c",
   "metadata": {},
   "outputs": [],
   "source": [
    "MODEL_NAME = \"resnet50_v2_furniture_model.keras\"\n",
    "model = get_resnet50_v2_model(img_shape=IMG_SIZE + (3,))\n",
    "model.summary()"
   ]
  },
  {
   "cell_type": "code",
   "execution_count": null,
   "id": "c4cfa7c7",
   "metadata": {},
   "outputs": [],
   "source": [
    "history = model.fit(\n",
    "    train_ds,\n",
    "    epochs=EPOCHS,\n",
    "    validation_data=val_ds,\n",
    "    callbacks=[early_stopping_callback, reduce_lr],\n",
    "    verbose = 2\n",
    "    \n",
    ")"
   ]
  },
  {
   "cell_type": "code",
   "execution_count": null,
   "id": "376df63a",
   "metadata": {},
   "outputs": [],
   "source": [
    "print(\"\\n--- Final Evaluation on Test Set ---\")\n",
    "loss, accuracy = model.evaluate(test_ds)\n",
    "print(f\"Final Test Accuracy: {accuracy*100:.2f}%\")"
   ]
  },
  {
   "cell_type": "code",
   "execution_count": null,
   "id": "b8c40dfc",
   "metadata": {},
   "outputs": [],
   "source": [
    "model.save(MODEL_NAME)\n",
    "print(f\"Model successfully saved to {MODEL_NAME}\")"
   ]
  },
  {
   "cell_type": "code",
   "execution_count": null,
   "id": "fca422fb",
   "metadata": {},
   "outputs": [],
   "source": [
    "# --- 6. Generate All Reports and Plots ---\n",
    "\n",
    "# Get Predictions and True Labels (needed for reports)\n",
    "print(\"\\n--- Generating Predictions for Reports ---\")\n",
    "y_pred_probs = model.predict(test_ds)\n",
    "y_pred_classes = (y_pred_probs > 0.5).astype(int).flatten()\n",
    "y_true = np.concatenate([y for x, y in test_ds], axis=0)\n",
    "\n",
    "# 7. (NEW) Plot the training history using our function\n",
    "plot_training_history(history, save_path=f\"{MODEL_NAME.replace('.keras','')}_history.png\")\n",
    "\n",
    "# Get class names for reports\n",
    "class_names = ['environment', 'studio']\n",
    "\n",
    "# 8. (NEW) Generate the full classification report\n",
    "print_classification_report(y_true, y_pred_classes, class_names, MODEL_NAME)\n",
    "\n",
    "# 9. Plot the confusion matrix (same as before)\n",
    "print(\"\\n--- Generating Confusion Matrix Plot ---\")\n",
    "cm = confusion_matrix(y_true, y_pred_classes)\n",
    "plt.figure(figsize=(8, 6))\n",
    "sns.heatmap(\n",
    "    cm,\n",
    "    annot=True,\n",
    "    fmt=\"d\",\n",
    "    cmap=\"Blues\",\n",
    "    xticklabels=class_names,\n",
    "    yticklabels=class_names\n",
    ")\n",
    "plt.xlabel(\"Predicted Label\")\n",
    "plt.ylabel(\"True Label\")\n",
    "plt.title(\"Confusion Matrix\")\n",
    "plt.savefig(f\"{MODEL_NAME.replace('.keras','')}.png\")\n",
    "print(f\"Confusion matrix saved to {MODEL_NAME.replace('.keras','')}.png\")\n",
    "plt.show()"
   ]
  },
  {
   "cell_type": "code",
   "execution_count": null,
   "id": "572e3652",
   "metadata": {},
   "outputs": [],
   "source": [
    "# Average latency per lookup\n",
    "inference_latency(test_ds, model, MODEL_NAME.replace('.keras',''))"
   ]
  },
  {
   "cell_type": "markdown",
   "id": "a64fdec7",
   "metadata": {},
   "source": [
    "### EfficientNetB0"
   ]
  },
  {
   "cell_type": "code",
   "execution_count": null,
   "id": "d1686b63",
   "metadata": {},
   "outputs": [],
   "source": [
    "MODEL_NAME = \"efficientnetb0_furniture_model.keras\"\n",
    "model = get_efficientnet_b0_model(img_shape=IMG_SIZE + (3,))\n",
    "model.summary()"
   ]
  },
  {
   "cell_type": "code",
   "execution_count": null,
   "id": "4edc97b9",
   "metadata": {},
   "outputs": [],
   "source": [
    "history = model.fit(\n",
    "    train_ds,\n",
    "    epochs=EPOCHS,\n",
    "    validation_data=val_ds,\n",
    "    callbacks=[early_stopping_callback, reduce_lr],\n",
    "    verbose = 2\n",
    "    \n",
    ")"
   ]
  },
  {
   "cell_type": "code",
   "execution_count": null,
   "id": "dd19ca0e",
   "metadata": {},
   "outputs": [],
   "source": [
    "print(\"\\n--- Final Evaluation on Test Set ---\")\n",
    "loss, accuracy = model.evaluate(test_ds)\n",
    "print(f\"Final Test Accuracy: {accuracy*100:.2f}%\")"
   ]
  },
  {
   "cell_type": "code",
   "execution_count": null,
   "id": "7476b942",
   "metadata": {},
   "outputs": [],
   "source": [
    "model.save(MODEL_NAME)\n",
    "print(f\"Model successfully saved to {MODEL_NAME}\")"
   ]
  },
  {
   "cell_type": "code",
   "execution_count": null,
   "id": "ebfa86e0",
   "metadata": {},
   "outputs": [],
   "source": [
    "# --- 6. Generate All Reports and Plots ---\n",
    "\n",
    "# Get Predictions and True Labels (needed for reports)\n",
    "print(\"\\n--- Generating Predictions for Reports ---\")\n",
    "y_pred_probs = model.predict(test_ds)\n",
    "y_pred_classes = (y_pred_probs > 0.5).astype(int).flatten()\n",
    "y_true = np.concatenate([y for x, y in test_ds], axis=0)\n",
    "\n",
    "# 7. (NEW) Plot the training history using our function\n",
    "plot_training_history(history, save_path=f\"{MODEL_NAME.replace('.keras','')}_history.png\")\n",
    "\n",
    "# Get class names for reports\n",
    "class_names = ['environment', 'studio']\n",
    "\n",
    "# 8. (NEW) Generate the full classification report\n",
    "print_classification_report(y_true, y_pred_classes, class_names, MODEL_NAME)\n",
    "\n",
    "# 9. Plot the confusion matrix (same as before)\n",
    "print(\"\\n--- Generating Confusion Matrix Plot ---\")\n",
    "cm = confusion_matrix(y_true, y_pred_classes)\n",
    "plt.figure(figsize=(8, 6))\n",
    "sns.heatmap(\n",
    "    cm,\n",
    "    annot=True,\n",
    "    fmt=\"d\",\n",
    "    cmap=\"Blues\",\n",
    "    xticklabels=class_names,\n",
    "    yticklabels=class_names\n",
    ")\n",
    "plt.xlabel(\"Predicted Label\")\n",
    "plt.ylabel(\"True Label\")\n",
    "plt.title(\"Confusion Matrix\")\n",
    "plt.savefig(f\"{MODEL_NAME.replace('.keras','')}.png\")\n",
    "print(f\"Confusion matrix saved to {MODEL_NAME.replace('.keras','')}.png\")\n",
    "plt.show()"
   ]
  },
  {
   "cell_type": "code",
   "execution_count": null,
   "id": "51b8e959",
   "metadata": {},
   "outputs": [],
   "source": [
    "# Average latency per lookup\n",
    "inference_latency(test_ds, model, MODEL_NAME.replace('.keras',''))"
   ]
  },
  {
   "cell_type": "markdown",
   "id": "6d670596",
   "metadata": {},
   "source": [
    "### DenseNet121"
   ]
  },
  {
   "cell_type": "code",
   "execution_count": null,
   "id": "3299220d",
   "metadata": {},
   "outputs": [],
   "source": [
    "MODEL_NAME = \"densenet121_furniture_model.keras\"\n",
    "model = get_densenet121_model(img_shape=IMG_SIZE + (3,))\n",
    "model.summary()"
   ]
  },
  {
   "cell_type": "code",
   "execution_count": null,
   "id": "65944cda",
   "metadata": {},
   "outputs": [],
   "source": [
    "history = model.fit(\n",
    "    train_ds,\n",
    "    epochs=EPOCHS,\n",
    "    validation_data=val_ds,\n",
    "    callbacks=[early_stopping_callback, reduce_lr],\n",
    "    verbose = 2\n",
    "    \n",
    ")"
   ]
  },
  {
   "cell_type": "code",
   "execution_count": null,
   "id": "53c5a991",
   "metadata": {},
   "outputs": [],
   "source": [
    "print(\"\\n--- Final Evaluation on Test Set ---\")\n",
    "loss, accuracy = model.evaluate(test_ds)\n",
    "print(f\"Final Test Accuracy: {accuracy*100:.2f}%\")"
   ]
  },
  {
   "cell_type": "code",
   "execution_count": null,
   "id": "8fb0564c",
   "metadata": {},
   "outputs": [],
   "source": [
    "model.save(MODEL_NAME)\n",
    "print(f\"Model successfully saved to {MODEL_NAME}\")"
   ]
  },
  {
   "cell_type": "code",
   "execution_count": null,
   "id": "3227053e",
   "metadata": {},
   "outputs": [],
   "source": [
    "# --- 6. Generate All Reports and Plots ---\n",
    "\n",
    "# Get Predictions and True Labels (needed for reports)\n",
    "print(\"\\n--- Generating Predictions for Reports ---\")\n",
    "y_pred_probs = model.predict(test_ds)\n",
    "y_pred_classes = (y_pred_probs > 0.5).astype(int).flatten()\n",
    "y_true = np.concatenate([y for x, y in test_ds], axis=0)\n",
    "\n",
    "# 7. (NEW) Plot the training history using our function\n",
    "plot_training_history(history, save_path=f\"{MODEL_NAME.replace('.keras','')}_history.png\")\n",
    "\n",
    "# Get class names for reports\n",
    "class_names = ['environment', 'studio']\n",
    "\n",
    "# 8. (NEW) Generate the full classification report\n",
    "print_classification_report(y_true, y_pred_classes, class_names, MODEL_NAME)\n",
    "\n",
    "# 9. Plot the confusion matrix (same as before)\n",
    "print(\"\\n--- Generating Confusion Matrix Plot ---\")\n",
    "cm = confusion_matrix(y_true, y_pred_classes)\n",
    "plt.figure(figsize=(8, 6))\n",
    "sns.heatmap(\n",
    "    cm,\n",
    "    annot=True,\n",
    "    fmt=\"d\",\n",
    "    cmap=\"Blues\",\n",
    "    xticklabels=class_names,\n",
    "    yticklabels=class_names\n",
    ")\n",
    "plt.xlabel(\"Predicted Label\")\n",
    "plt.ylabel(\"True Label\")\n",
    "plt.title(\"Confusion Matrix\")\n",
    "plt.savefig(f\"{MODEL_NAME.replace('.keras','')}.png\")\n",
    "print(f\"Confusion matrix saved to {MODEL_NAME.replace('.keras','')}.png\")\n",
    "plt.show()"
   ]
  },
  {
   "cell_type": "code",
   "execution_count": null,
   "id": "94a1e9bc",
   "metadata": {},
   "outputs": [],
   "source": [
    "# Average latency per lookup\n",
    "inference_latency(test_ds, model, MODEL_NAME.replace('.keras',''))"
   ]
  },
  {
   "cell_type": "markdown",
   "id": "09324f16",
   "metadata": {},
   "source": [
    "### Xception"
   ]
  },
  {
   "cell_type": "code",
   "execution_count": null,
   "id": "471b4828",
   "metadata": {},
   "outputs": [],
   "source": [
    "train_ds, val_ds, test_ds = load_datasets(\n",
    "    TRAIN_DIR, VAL_DIR, TEST_DIR, img_size=(299,299), batch_size=BATCH_SIZE\n",
    ")"
   ]
  },
  {
   "cell_type": "code",
   "execution_count": null,
   "id": "d3683b14",
   "metadata": {},
   "outputs": [],
   "source": [
    "MODEL_NAME = \"xception_furniture_model.keras\"\n",
    "model = get_xception_model(img_shape=(299,299) + (3,))\n",
    "model.summary()"
   ]
  },
  {
   "cell_type": "code",
   "execution_count": null,
   "id": "ad168aa3",
   "metadata": {},
   "outputs": [],
   "source": [
    "history = model.fit(\n",
    "    train_ds,\n",
    "    epochs=EPOCHS,\n",
    "    validation_data=val_ds,\n",
    "    callbacks=[early_stopping_callback, reduce_lr],\n",
    "    verbose = 2\n",
    "    \n",
    ")"
   ]
  },
  {
   "cell_type": "code",
   "execution_count": null,
   "id": "a7604d35",
   "metadata": {},
   "outputs": [],
   "source": [
    "print(\"\\n--- Final Evaluation on Test Set ---\")\n",
    "loss, accuracy = model.evaluate(test_ds)\n",
    "print(f\"Final Test Accuracy: {accuracy*100:.2f}%\")"
   ]
  },
  {
   "cell_type": "code",
   "execution_count": null,
   "id": "39495445",
   "metadata": {},
   "outputs": [],
   "source": [
    "model.save(MODEL_NAME)\n",
    "print(f\"Model successfully saved to {MODEL_NAME}\")"
   ]
  },
  {
   "cell_type": "code",
   "execution_count": null,
   "id": "9f3906f5",
   "metadata": {},
   "outputs": [],
   "source": [
    "# --- 6. Generate All Reports and Plots ---\n",
    "\n",
    "# Get Predictions and True Labels (needed for reports)\n",
    "print(\"\\n--- Generating Predictions for Reports ---\")\n",
    "y_pred_probs = model.predict(test_ds)\n",
    "y_pred_classes = (y_pred_probs > 0.5).astype(int).flatten()\n",
    "y_true = np.concatenate([y for x, y in test_ds], axis=0)\n",
    "\n",
    "# 7. (NEW) Plot the training history using our function\n",
    "plot_training_history(history, save_path=f\"{MODEL_NAME.replace('.keras','')}_history.png\")\n",
    "\n",
    "# Get class names for reports\n",
    "class_names = ['environment', 'studio']\n",
    "\n",
    "# 8. (NEW) Generate the full classification report\n",
    "print_classification_report(y_true, y_pred_classes, class_names, MODEL_NAME)\n",
    "\n",
    "# 9. Plot the confusion matrix (same as before)\n",
    "print(\"\\n--- Generating Confusion Matrix Plot ---\")\n",
    "cm = confusion_matrix(y_true, y_pred_classes)\n",
    "plt.figure(figsize=(8, 6))\n",
    "sns.heatmap(\n",
    "    cm,\n",
    "    annot=True,\n",
    "    fmt=\"d\",\n",
    "    cmap=\"Blues\",\n",
    "    xticklabels=class_names,\n",
    "    yticklabels=class_names\n",
    ")\n",
    "plt.xlabel(\"Predicted Label\")\n",
    "plt.ylabel(\"True Label\")\n",
    "plt.title(\"Confusion Matrix\")\n",
    "plt.savefig(f\"{MODEL_NAME.replace('.keras','')}.png\")\n",
    "print(f\"Confusion matrix saved to {MODEL_NAME.replace('.keras','')}.png\")\n",
    "plt.show()"
   ]
  },
  {
   "cell_type": "code",
   "execution_count": null,
   "id": "cdf4cbc4",
   "metadata": {},
   "outputs": [],
   "source": [
    "# Average latency per lookup\n",
    "inference_latency(test_ds, model, MODEL_NAME.replace('.keras',''))"
   ]
  }
 ],
 "metadata": {
  "kernelspec": {
   "display_name": "keras_env",
   "language": "python",
   "name": "python3"
  },
  "language_info": {
   "codemirror_mode": {
    "name": "ipython",
    "version": 3
   },
   "file_extension": ".py",
   "mimetype": "text/x-python",
   "name": "python",
   "nbconvert_exporter": "python",
   "pygments_lexer": "ipython3",
   "version": "3.10.18"
  }
 },
 "nbformat": 4,
 "nbformat_minor": 5
}
